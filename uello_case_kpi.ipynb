{
 "cells": [
  {
   "cell_type": "markdown",
   "metadata": {},
   "source": [
    "## Exploração dos dados"
   ]
  },
  {
   "cell_type": "code",
   "execution_count": 1,
   "metadata": {},
   "outputs": [],
   "source": [
    "import pandas as pd\n",
    "import numpy as np\n",
    "from rich import print"
   ]
  },
  {
   "cell_type": "code",
   "execution_count": 2,
   "metadata": {},
   "outputs": [],
   "source": [
    "df = pd.read_csv('data/routes_base.csv')"
   ]
  },
  {
   "cell_type": "code",
   "execution_count": 3,
   "metadata": {},
   "outputs": [
    {
     "data": {
      "text/html": [
       "<div>\n",
       "<style scoped>\n",
       "    .dataframe tbody tr th:only-of-type {\n",
       "        vertical-align: middle;\n",
       "    }\n",
       "\n",
       "    .dataframe tbody tr th {\n",
       "        vertical-align: top;\n",
       "    }\n",
       "\n",
       "    .dataframe thead th {\n",
       "        text-align: right;\n",
       "    }\n",
       "</style>\n",
       "<table border=\"1\" class=\"dataframe\">\n",
       "  <thead>\n",
       "    <tr style=\"text-align: right;\">\n",
       "      <th></th>\n",
       "      <th>route_id</th>\n",
       "      <th>schedule_date</th>\n",
       "      <th>car_type</th>\n",
       "      <th>route_distance_km</th>\n",
       "      <th>route_minutes</th>\n",
       "      <th>total_orders</th>\n",
       "    </tr>\n",
       "  </thead>\n",
       "  <tbody>\n",
       "    <tr>\n",
       "      <th>0</th>\n",
       "      <td>562510</td>\n",
       "      <td>2019-06-29 08:00:00</td>\n",
       "      <td>Particular</td>\n",
       "      <td>79.149</td>\n",
       "      <td>532.93</td>\n",
       "      <td>55</td>\n",
       "    </tr>\n",
       "    <tr>\n",
       "      <th>1</th>\n",
       "      <td>563400</td>\n",
       "      <td>2019-06-29 15:45:00</td>\n",
       "      <td>Moto</td>\n",
       "      <td>22.391</td>\n",
       "      <td>104.85</td>\n",
       "      <td>4</td>\n",
       "    </tr>\n",
       "    <tr>\n",
       "      <th>2</th>\n",
       "      <td>563570</td>\n",
       "      <td>2019-06-29 15:45:00</td>\n",
       "      <td>Moto</td>\n",
       "      <td>62.106</td>\n",
       "      <td>142.81</td>\n",
       "      <td>7</td>\n",
       "    </tr>\n",
       "    <tr>\n",
       "      <th>3</th>\n",
       "      <td>563750</td>\n",
       "      <td>2019-06-29 15:45:00</td>\n",
       "      <td>Moto</td>\n",
       "      <td>46.681</td>\n",
       "      <td>102.24</td>\n",
       "      <td>6</td>\n",
       "    </tr>\n",
       "    <tr>\n",
       "      <th>4</th>\n",
       "      <td>564130</td>\n",
       "      <td>2019-06-30 08:00:00</td>\n",
       "      <td>Fiorino S.C.</td>\n",
       "      <td>20.151</td>\n",
       "      <td>68.22</td>\n",
       "      <td>2</td>\n",
       "    </tr>\n",
       "  </tbody>\n",
       "</table>\n",
       "</div>"
      ],
      "text/plain": [
       "   route_id        schedule_date      car_type  route_distance_km  \\\n",
       "0    562510  2019-06-29 08:00:00    Particular             79.149   \n",
       "1    563400  2019-06-29 15:45:00          Moto             22.391   \n",
       "2    563570  2019-06-29 15:45:00          Moto             62.106   \n",
       "3    563750  2019-06-29 15:45:00          Moto             46.681   \n",
       "4    564130  2019-06-30 08:00:00  Fiorino S.C.             20.151   \n",
       "\n",
       "   route_minutes  total_orders  \n",
       "0         532.93            55  \n",
       "1         104.85             4  \n",
       "2         142.81             7  \n",
       "3         102.24             6  \n",
       "4          68.22             2  "
      ]
     },
     "execution_count": 3,
     "metadata": {},
     "output_type": "execute_result"
    }
   ],
   "source": [
    "df.head()"
   ]
  },
  {
   "cell_type": "code",
   "execution_count": 4,
   "metadata": {},
   "outputs": [
    {
     "name": "stdout",
     "output_type": "stream",
     "text": [
      "<class 'pandas.core.frame.DataFrame'>\n",
      "RangeIndex: 1778 entries, 0 to 1777\n",
      "Data columns (total 6 columns):\n",
      " #   Column             Non-Null Count  Dtype  \n",
      "---  ------             --------------  -----  \n",
      " 0   route_id           1778 non-null   int64  \n",
      " 1   schedule_date      1778 non-null   object \n",
      " 2   car_type           1778 non-null   object \n",
      " 3   route_distance_km  1778 non-null   float64\n",
      " 4   route_minutes      1778 non-null   float64\n",
      " 5   total_orders       1778 non-null   int64  \n",
      "dtypes: float64(2), int64(2), object(2)\n",
      "memory usage: 83.5+ KB\n"
     ]
    }
   ],
   "source": [
    "#Avaliando os dados\n",
    "df.info()"
   ]
  },
  {
   "cell_type": "code",
   "execution_count": 5,
   "metadata": {},
   "outputs": [
    {
     "data": {
      "text/plain": [
       "route_id               int64\n",
       "schedule_date         object\n",
       "car_type              object\n",
       "route_distance_km    float64\n",
       "route_minutes        float64\n",
       "total_orders           int64\n",
       "dtype: object"
      ]
     },
     "execution_count": 5,
     "metadata": {},
     "output_type": "execute_result"
    }
   ],
   "source": [
    "#Verificando os tipos\n",
    "df.dtypes"
   ]
  },
  {
   "cell_type": "code",
   "execution_count": 6,
   "metadata": {},
   "outputs": [
    {
     "data": {
      "text/html": [
       "<pre style=\"white-space:pre;overflow-x:auto;line-height:normal;font-family:Menlo,'DejaVu Sans Mono',consolas,'Courier New',monospace\"><span style=\"font-weight: bold\">Colunas com valores Faltantes: </span>\n",
       "<span style=\"font-weight: bold\">  </span>\n",
       "</pre>\n"
      ],
      "text/plain": [
       "<rich.jupyter.JupyterRenderable at 0x7f73a2054370>"
      ]
     },
     "metadata": {},
     "output_type": "display_data"
    }
   ],
   "source": [
    "#Colunas com valores faltantes\n",
    "print(\"[bold]Colunas com valores Faltantes: \\n {0} \\n[/bold]\".format(\n",
    "    df.columns[df.isnull().any()].values))"
   ]
  },
  {
   "cell_type": "code",
   "execution_count": 7,
   "metadata": {},
   "outputs": [
    {
     "data": {
      "text/html": [
       "<pre style=\"white-space:pre;overflow-x:auto;line-height:normal;font-family:Menlo,'DejaVu Sans Mono',consolas,'Courier New',monospace\"><span style=\"font-weight: bold\">Duplicadas: </span><span style=\"color: #000080; font-weight: bold\">0</span><span style=\"font-weight: bold\"> </span>\n",
       "</pre>\n"
      ],
      "text/plain": [
       "<rich.jupyter.JupyterRenderable at 0x7f73cc4d7490>"
      ]
     },
     "metadata": {},
     "output_type": "display_data"
    }
   ],
   "source": [
    "#linhas duplicadas\n",
    "print(\"[bold]Duplicadas: {0} \".format(\n",
    "        df.duplicated().sum()))"
   ]
  },
  {
   "cell_type": "code",
   "execution_count": 8,
   "metadata": {},
   "outputs": [
    {
     "data": {
      "text/plain": [
       "route_id             1778\n",
       "schedule_date         132\n",
       "car_type                8\n",
       "route_distance_km    1742\n",
       "route_minutes        1738\n",
       "total_orders          105\n",
       "dtype: int64"
      ]
     },
     "execution_count": 8,
     "metadata": {},
     "output_type": "execute_result"
    }
   ],
   "source": [
    "#Verificando as linhas nulas\n",
    "df.nunique()"
   ]
  },
  {
   "cell_type": "markdown",
   "metadata": {},
   "source": [
    "## Transfomando os dados"
   ]
  },
  {
   "cell_type": "code",
   "execution_count": 9,
   "metadata": {},
   "outputs": [],
   "source": [
    "#Convertendo para o formato data\n",
    "df['schedule_date'] = pd.to_datetime(df['schedule_date'])"
   ]
  },
  {
   "cell_type": "code",
   "execution_count": 10,
   "metadata": {},
   "outputs": [],
   "source": [
    "df['planning_routes'] = np.where(df['schedule_date'].dt.hour <= 10, 'primeira saída', 'segunda saída')"
   ]
  },
  {
   "cell_type": "code",
   "execution_count": 11,
   "metadata": {},
   "outputs": [
    {
     "data": {
      "text/html": [
       "<div>\n",
       "<style scoped>\n",
       "    .dataframe tbody tr th:only-of-type {\n",
       "        vertical-align: middle;\n",
       "    }\n",
       "\n",
       "    .dataframe tbody tr th {\n",
       "        vertical-align: top;\n",
       "    }\n",
       "\n",
       "    .dataframe thead th {\n",
       "        text-align: right;\n",
       "    }\n",
       "</style>\n",
       "<table border=\"1\" class=\"dataframe\">\n",
       "  <thead>\n",
       "    <tr style=\"text-align: right;\">\n",
       "      <th></th>\n",
       "      <th>route_id</th>\n",
       "      <th>schedule_date</th>\n",
       "      <th>car_type</th>\n",
       "      <th>route_distance_km</th>\n",
       "      <th>route_minutes</th>\n",
       "      <th>total_orders</th>\n",
       "      <th>planning_routes</th>\n",
       "    </tr>\n",
       "  </thead>\n",
       "  <tbody>\n",
       "    <tr>\n",
       "      <th>0</th>\n",
       "      <td>562510</td>\n",
       "      <td>2019-06-29 08:00:00</td>\n",
       "      <td>Particular</td>\n",
       "      <td>79.149</td>\n",
       "      <td>532.93</td>\n",
       "      <td>55</td>\n",
       "      <td>primeira saída</td>\n",
       "    </tr>\n",
       "    <tr>\n",
       "      <th>1</th>\n",
       "      <td>563400</td>\n",
       "      <td>2019-06-29 15:45:00</td>\n",
       "      <td>Moto</td>\n",
       "      <td>22.391</td>\n",
       "      <td>104.85</td>\n",
       "      <td>4</td>\n",
       "      <td>segunda saída</td>\n",
       "    </tr>\n",
       "    <tr>\n",
       "      <th>2</th>\n",
       "      <td>563570</td>\n",
       "      <td>2019-06-29 15:45:00</td>\n",
       "      <td>Moto</td>\n",
       "      <td>62.106</td>\n",
       "      <td>142.81</td>\n",
       "      <td>7</td>\n",
       "      <td>segunda saída</td>\n",
       "    </tr>\n",
       "    <tr>\n",
       "      <th>3</th>\n",
       "      <td>563750</td>\n",
       "      <td>2019-06-29 15:45:00</td>\n",
       "      <td>Moto</td>\n",
       "      <td>46.681</td>\n",
       "      <td>102.24</td>\n",
       "      <td>6</td>\n",
       "      <td>segunda saída</td>\n",
       "    </tr>\n",
       "    <tr>\n",
       "      <th>4</th>\n",
       "      <td>564130</td>\n",
       "      <td>2019-06-30 08:00:00</td>\n",
       "      <td>Fiorino S.C.</td>\n",
       "      <td>20.151</td>\n",
       "      <td>68.22</td>\n",
       "      <td>2</td>\n",
       "      <td>primeira saída</td>\n",
       "    </tr>\n",
       "  </tbody>\n",
       "</table>\n",
       "</div>"
      ],
      "text/plain": [
       "   route_id       schedule_date      car_type  route_distance_km  \\\n",
       "0    562510 2019-06-29 08:00:00    Particular             79.149   \n",
       "1    563400 2019-06-29 15:45:00          Moto             22.391   \n",
       "2    563570 2019-06-29 15:45:00          Moto             62.106   \n",
       "3    563750 2019-06-29 15:45:00          Moto             46.681   \n",
       "4    564130 2019-06-30 08:00:00  Fiorino S.C.             20.151   \n",
       "\n",
       "   route_minutes  total_orders planning_routes  \n",
       "0         532.93            55  primeira saída  \n",
       "1         104.85             4   segunda saída  \n",
       "2         142.81             7   segunda saída  \n",
       "3         102.24             6   segunda saída  \n",
       "4          68.22             2  primeira saída  "
      ]
     },
     "execution_count": 11,
     "metadata": {},
     "output_type": "execute_result"
    }
   ],
   "source": [
    "df.head()"
   ]
  },
  {
   "cell_type": "code",
   "execution_count": 12,
   "metadata": {},
   "outputs": [],
   "source": [
    "df['km_pedido'] = df['route_distance_km']/df['total_orders']\n",
    "df['min_pedido'] = df['route_minutes']/df['total_orders']"
   ]
  },
  {
   "cell_type": "code",
   "execution_count": 13,
   "metadata": {},
   "outputs": [],
   "source": [
    "df['km_pedido'] = df['km_pedido'].astype(float).round(2)\n",
    "df['min_pedido'] = df['min_pedido'].astype(float).round(2)"
   ]
  },
  {
   "cell_type": "code",
   "execution_count": 14,
   "metadata": {},
   "outputs": [
    {
     "data": {
      "text/html": [
       "<div>\n",
       "<style scoped>\n",
       "    .dataframe tbody tr th:only-of-type {\n",
       "        vertical-align: middle;\n",
       "    }\n",
       "\n",
       "    .dataframe tbody tr th {\n",
       "        vertical-align: top;\n",
       "    }\n",
       "\n",
       "    .dataframe thead th {\n",
       "        text-align: right;\n",
       "    }\n",
       "</style>\n",
       "<table border=\"1\" class=\"dataframe\">\n",
       "  <thead>\n",
       "    <tr style=\"text-align: right;\">\n",
       "      <th></th>\n",
       "      <th>route_id</th>\n",
       "      <th>schedule_date</th>\n",
       "      <th>car_type</th>\n",
       "      <th>route_distance_km</th>\n",
       "      <th>route_minutes</th>\n",
       "      <th>total_orders</th>\n",
       "      <th>planning_routes</th>\n",
       "      <th>km_pedido</th>\n",
       "      <th>min_pedido</th>\n",
       "    </tr>\n",
       "  </thead>\n",
       "  <tbody>\n",
       "    <tr>\n",
       "      <th>0</th>\n",
       "      <td>562510</td>\n",
       "      <td>2019-06-29 08:00:00</td>\n",
       "      <td>Particular</td>\n",
       "      <td>79.149</td>\n",
       "      <td>532.93</td>\n",
       "      <td>55</td>\n",
       "      <td>primeira saída</td>\n",
       "      <td>1.44</td>\n",
       "      <td>9.69</td>\n",
       "    </tr>\n",
       "    <tr>\n",
       "      <th>1</th>\n",
       "      <td>563400</td>\n",
       "      <td>2019-06-29 15:45:00</td>\n",
       "      <td>Moto</td>\n",
       "      <td>22.391</td>\n",
       "      <td>104.85</td>\n",
       "      <td>4</td>\n",
       "      <td>segunda saída</td>\n",
       "      <td>5.60</td>\n",
       "      <td>26.21</td>\n",
       "    </tr>\n",
       "    <tr>\n",
       "      <th>2</th>\n",
       "      <td>563570</td>\n",
       "      <td>2019-06-29 15:45:00</td>\n",
       "      <td>Moto</td>\n",
       "      <td>62.106</td>\n",
       "      <td>142.81</td>\n",
       "      <td>7</td>\n",
       "      <td>segunda saída</td>\n",
       "      <td>8.87</td>\n",
       "      <td>20.40</td>\n",
       "    </tr>\n",
       "    <tr>\n",
       "      <th>3</th>\n",
       "      <td>563750</td>\n",
       "      <td>2019-06-29 15:45:00</td>\n",
       "      <td>Moto</td>\n",
       "      <td>46.681</td>\n",
       "      <td>102.24</td>\n",
       "      <td>6</td>\n",
       "      <td>segunda saída</td>\n",
       "      <td>7.78</td>\n",
       "      <td>17.04</td>\n",
       "    </tr>\n",
       "    <tr>\n",
       "      <th>4</th>\n",
       "      <td>564130</td>\n",
       "      <td>2019-06-30 08:00:00</td>\n",
       "      <td>Fiorino S.C.</td>\n",
       "      <td>20.151</td>\n",
       "      <td>68.22</td>\n",
       "      <td>2</td>\n",
       "      <td>primeira saída</td>\n",
       "      <td>10.08</td>\n",
       "      <td>34.11</td>\n",
       "    </tr>\n",
       "  </tbody>\n",
       "</table>\n",
       "</div>"
      ],
      "text/plain": [
       "   route_id       schedule_date      car_type  route_distance_km  \\\n",
       "0    562510 2019-06-29 08:00:00    Particular             79.149   \n",
       "1    563400 2019-06-29 15:45:00          Moto             22.391   \n",
       "2    563570 2019-06-29 15:45:00          Moto             62.106   \n",
       "3    563750 2019-06-29 15:45:00          Moto             46.681   \n",
       "4    564130 2019-06-30 08:00:00  Fiorino S.C.             20.151   \n",
       "\n",
       "   route_minutes  total_orders planning_routes  km_pedido  min_pedido  \n",
       "0         532.93            55  primeira saída       1.44        9.69  \n",
       "1         104.85             4   segunda saída       5.60       26.21  \n",
       "2         142.81             7   segunda saída       8.87       20.40  \n",
       "3         102.24             6   segunda saída       7.78       17.04  \n",
       "4          68.22             2  primeira saída      10.08       34.11  "
      ]
     },
     "execution_count": 14,
     "metadata": {},
     "output_type": "execute_result"
    }
   ],
   "source": [
    "df.head()"
   ]
  },
  {
   "cell_type": "markdown",
   "metadata": {},
   "source": [
    "### Dicionário variáveis criadas\n",
    " - **planning_routes** {Indica o planejamento das rotas **primeira saída** (quando horário agendado da rota é menor que 10am) e **segunda saída** (quando horário agendado da rota é maior que 10am)}\n",
    " - **km_pedido** {Indicador total de quilômetros percorridos necessários para entregar um número X de Pedidos}\n",
    " - **min_pedido** {Indicado total de minutos necessários para entregar um número X de Pedidos}"
   ]
  },
  {
   "cell_type": "markdown",
   "metadata": {},
   "source": [
    "### Qual o planejamento que possui maior concentração de pedidos?"
   ]
  },
  {
   "cell_type": "code",
   "execution_count": 15,
   "metadata": {},
   "outputs": [
    {
     "data": {
      "text/html": [
       "<div>\n",
       "<style scoped>\n",
       "    .dataframe tbody tr th:only-of-type {\n",
       "        vertical-align: middle;\n",
       "    }\n",
       "\n",
       "    .dataframe tbody tr th {\n",
       "        vertical-align: top;\n",
       "    }\n",
       "\n",
       "    .dataframe thead th {\n",
       "        text-align: right;\n",
       "    }\n",
       "</style>\n",
       "<table border=\"1\" class=\"dataframe\">\n",
       "  <thead>\n",
       "    <tr style=\"text-align: right;\">\n",
       "      <th></th>\n",
       "      <th>planning_routes</th>\n",
       "      <th>total_orders</th>\n",
       "    </tr>\n",
       "  </thead>\n",
       "  <tbody>\n",
       "    <tr>\n",
       "      <th>0</th>\n",
       "      <td>primeira saída</td>\n",
       "      <td>47227</td>\n",
       "    </tr>\n",
       "    <tr>\n",
       "      <th>1</th>\n",
       "      <td>segunda saída</td>\n",
       "      <td>6940</td>\n",
       "    </tr>\n",
       "  </tbody>\n",
       "</table>\n",
       "</div>"
      ],
      "text/plain": [
       "  planning_routes  total_orders\n",
       "0  primeira saída         47227\n",
       "1   segunda saída          6940"
      ]
     },
     "execution_count": 15,
     "metadata": {},
     "output_type": "execute_result"
    }
   ],
   "source": [
    "df_plan = df[['planning_routes', 'total_orders']].groupby('planning_routes').sum().reset_index()\n",
    "df_plan"
   ]
  },
  {
   "cell_type": "markdown",
   "metadata": {},
   "source": [
    "Os pedidos estão mais concetrados na primeira saída. "
   ]
  },
  {
   "cell_type": "markdown",
   "metadata": {},
   "source": [
    "### Classificação dos indicadores de km/pedido e Min/pedido por tipo de veículo "
   ]
  },
  {
   "cell_type": "code",
   "execution_count": 16,
   "metadata": {},
   "outputs": [
    {
     "data": {
      "text/html": [
       "<div>\n",
       "<style scoped>\n",
       "    .dataframe tbody tr th:only-of-type {\n",
       "        vertical-align: middle;\n",
       "    }\n",
       "\n",
       "    .dataframe tbody tr th {\n",
       "        vertical-align: top;\n",
       "    }\n",
       "\n",
       "    .dataframe thead th {\n",
       "        text-align: right;\n",
       "    }\n",
       "</style>\n",
       "<table border=\"1\" class=\"dataframe\">\n",
       "  <thead>\n",
       "    <tr style=\"text-align: right;\">\n",
       "      <th></th>\n",
       "      <th>car_type</th>\n",
       "      <th>km_pedido</th>\n",
       "      <th>min_pedido</th>\n",
       "    </tr>\n",
       "  </thead>\n",
       "  <tbody>\n",
       "    <tr>\n",
       "      <th>0</th>\n",
       "      <td>Bloqueado</td>\n",
       "      <td>4.65</td>\n",
       "      <td>16.47</td>\n",
       "    </tr>\n",
       "    <tr>\n",
       "      <th>1</th>\n",
       "      <td>Fiorino</td>\n",
       "      <td>2.48</td>\n",
       "      <td>11.80</td>\n",
       "    </tr>\n",
       "    <tr>\n",
       "      <th>2</th>\n",
       "      <td>Fiorino S.C.</td>\n",
       "      <td>4.60</td>\n",
       "      <td>16.60</td>\n",
       "    </tr>\n",
       "    <tr>\n",
       "      <th>3</th>\n",
       "      <td>Fiorino Sr</td>\n",
       "      <td>1.26</td>\n",
       "      <td>8.84</td>\n",
       "    </tr>\n",
       "    <tr>\n",
       "      <th>4</th>\n",
       "      <td>Hr</td>\n",
       "      <td>50.92</td>\n",
       "      <td>47.52</td>\n",
       "    </tr>\n",
       "    <tr>\n",
       "      <th>5</th>\n",
       "      <td>Moto</td>\n",
       "      <td>11.92</td>\n",
       "      <td>24.53</td>\n",
       "    </tr>\n",
       "    <tr>\n",
       "      <th>6</th>\n",
       "      <td>Particular</td>\n",
       "      <td>2.47</td>\n",
       "      <td>12.36</td>\n",
       "    </tr>\n",
       "    <tr>\n",
       "      <th>7</th>\n",
       "      <td>Próprio</td>\n",
       "      <td>11.15</td>\n",
       "      <td>30.27</td>\n",
       "    </tr>\n",
       "  </tbody>\n",
       "</table>\n",
       "</div>"
      ],
      "text/plain": [
       "       car_type  km_pedido  min_pedido\n",
       "0     Bloqueado       4.65       16.47\n",
       "1       Fiorino       2.48       11.80\n",
       "2  Fiorino S.C.       4.60       16.60\n",
       "3    Fiorino Sr       1.26        8.84\n",
       "4            Hr      50.92       47.52\n",
       "5          Moto      11.92       24.53\n",
       "6    Particular       2.47       12.36\n",
       "7       Próprio      11.15       30.27"
      ]
     },
     "execution_count": 16,
     "metadata": {},
     "output_type": "execute_result"
    }
   ],
   "source": [
    "df_indic = df[['car_type', 'km_pedido', 'min_pedido']].groupby('car_type').mean().round(2).reset_index()\n",
    "df_indic"
   ]
  },
  {
   "cell_type": "markdown",
   "metadata": {},
   "source": [
    "Segundo os indicadores as rotas mais densas estão com os tipos:\n",
    " - **Hr** (Km/Pedido = 50.92 Min/Pedido = 47.52)\n",
    " - **Próprio** (Km/Pedido = 11.15 Min/Pedido = 30.27)\n",
    " - **Moto** (Km/Pedido = 11.92 Min/Pedido = 24.53)"
   ]
  },
  {
   "cell_type": "markdown",
   "metadata": {},
   "source": [
    "## Escrevendo os Dataframes"
   ]
  },
  {
   "cell_type": "code",
   "execution_count": 17,
   "metadata": {},
   "outputs": [],
   "source": [
    "with pd.ExcelWriter('data/case_kpi.xlsx') as writer:\n",
    "    df.to_excel(writer, sheet_name='dados_transformados', index=False)\n",
    "    df_plan.to_excel(writer, sheet_name='analise_planejamento', index=False)\n",
    "    df_indic.to_excel(writer, sheet_name='analise_indicadores', index=False)"
   ]
  }
 ],
 "metadata": {
  "kernelspec": {
   "display_name": "Python 3",
   "language": "python",
   "name": "python3"
  },
  "language_info": {
   "codemirror_mode": {
    "name": "ipython",
    "version": 3
   },
   "file_extension": ".py",
   "mimetype": "text/x-python",
   "name": "python",
   "nbconvert_exporter": "python",
   "pygments_lexer": "ipython3",
   "version": "3.8.3"
  }
 },
 "nbformat": 4,
 "nbformat_minor": 4
}
